{
 "cells": [
  {
   "cell_type": "code",
   "execution_count": 29,
   "metadata": {},
   "outputs": [],
   "source": [
    "import jax\n",
    "import jax.numpy as jnp\n",
    "import jax.random as jr\n",
    "import matplotlib.pyplot as plt\n",
    "import numpy as np\n",
    "import pandas as pd\n",
    "import rho_plus as rp\n",
    "import seaborn as sns\n",
    "from eins import ElementwiseOps as E\n",
    "from flax import linen as nn\n",
    "\n",
    "theme, cs = rp.mpl_setup(True)"
   ]
  },
  {
   "cell_type": "code",
   "execution_count": 34,
   "metadata": {},
   "outputs": [
    {
     "data": {
      "application/vnd.jupyter.widget-view+json": {
       "model_id": "0e44ba19115f4816a85510deb2ce71ea",
       "version_major": 2,
       "version_minor": 0
      },
      "text/plain": [
       "interactive(children=(FloatSlider(value=1.0, description='a', max=4.0, min=-4.0, step=0.01), FloatSlider(value…"
      ]
     },
     "metadata": {},
     "output_type": "display_data"
    }
   ],
   "source": [
    "from ipywidgets import interact\n",
    "\n",
    "xx = jnp.linspace(-6, 6, 1000)\n",
    "\n",
    "\n",
    "def plot(f):\n",
    "    yy = jax.vmap(f)(xx)\n",
    "    plt.plot(xx, yy / jnp.max(jnp.abs(yy)), label='$f$')\n",
    "    # plt.plot(xx, jax.vmap(jax.grad(f))(xx) / jnp.max(jnp.abs(yy)), label=r'$\\frac{df}{dx}$')\n",
    "    plt.ylim(-1, 1)\n",
    "    plt.legend()\n",
    "    # rp.line_labels()\n",
    "\n",
    "bounds = (-4, 4, 0.01)\n",
    "# @interact(\n",
    "#     a=bounds,\n",
    "#     b=bounds,\n",
    "#     c=bounds,\n",
    "#     r11=bounds,\n",
    "#     r12=bounds,\n",
    "#     r21=bounds,\n",
    "#     r22=bounds\n",
    "# )\n",
    "# def plot_rational(a=1, b=1, c=1, r11=1, r12=0, r21=0, r22=0):\n",
    "#     def f(x):\n",
    "#         numer = jnp.polyval(jnp.array([a, b, c, 0]), x)\n",
    "#         denom = ((x - r11) ** 2 + jnp.exp(r12)) * ((x - r21) ** 2 + jnp.exp(r22))\n",
    "#         return numer / denom\n",
    "\n",
    "#     plot(f)\n",
    "\n",
    "\n",
    "@interact(\n",
    "    a=bounds,\n",
    "    b=bounds,\n",
    "    c=bounds,\n",
    ")\n",
    "def plot_sin_cubic(a=1, b=1, c=1):\n",
    "    def f(x):\n",
    "        numer = jnp.polyval(jnp.array([a, b, c, 0]), x)\n",
    "        return jnp.sin(numer / (x ** 4 + 1))\n",
    "\n",
    "    plot(f)\n",
    "\n"
   ]
  },
  {
   "cell_type": "code",
   "execution_count": 27,
   "metadata": {},
   "outputs": [
    {
     "data": {
      "text/plain": [
       "[-c/(2*b),\n",
       " (-c - sqrt(-4*b*d - 4*b + c**2))/(2*b),\n",
       " (-c + sqrt(-4*b*d - 4*b + c**2))/(2*b),\n",
       " (-c - sqrt(-4*b*d + 4*b + c**2))/(2*b),\n",
       " (-c + sqrt(-4*b*d + 4*b + c**2))/(2*b)]"
      ]
     },
     "execution_count": 27,
     "metadata": {},
     "output_type": "execute_result"
    }
   ],
   "source": [
    "from sympy import *\n",
    "\n",
    "a, b, c, d, f, g, x = symbols('a b c d f g x', real=True)\n",
    "\n",
    "pol = b * x ** 2 + c * x + d\n",
    "\n",
    "rat = pol / (pol ** 2 + 1)\n",
    "\n",
    "solve(diff(rat, x), x)"
   ]
  },
  {
   "cell_type": "code",
   "execution_count": null,
   "metadata": {},
   "outputs": [],
   "source": []
  }
 ],
 "metadata": {
  "kernelspec": {
   "display_name": "base",
   "language": "python",
   "name": "python3"
  },
  "language_info": {
   "codemirror_mode": {
    "name": "ipython",
    "version": 3
   },
   "file_extension": ".py",
   "mimetype": "text/x-python",
   "name": "python",
   "nbconvert_exporter": "python",
   "pygments_lexer": "ipython3",
   "version": "3.11.5"
  }
 },
 "nbformat": 4,
 "nbformat_minor": 2
}
